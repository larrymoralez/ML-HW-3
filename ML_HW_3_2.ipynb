{
  "nbformat": 4,
  "nbformat_minor": 0,
  "metadata": {
    "colab": {
      "name": "ML HW 3.2.ipynb",
      "version": "0.3.2",
      "provenance": [],
      "include_colab_link": true
    },
    "kernelspec": {
      "name": "python3",
      "display_name": "Python 3"
    }
  },
  "cells": [
    {
      "cell_type": "markdown",
      "metadata": {
        "id": "view-in-github",
        "colab_type": "text"
      },
      "source": [
        "<a href=\"https://colab.research.google.com/github/larrymoralez/ML-HW-3/blob/master/ML_HW_3_2.ipynb\" target=\"_parent\"><img src=\"https://colab.research.google.com/assets/colab-badge.svg\" alt=\"Open In Colab\"/></a>"
      ]
    },
    {
      "metadata": {
        "id": "x6jRzVIHYgCE",
        "colab_type": "code",
        "colab": {}
      },
      "cell_type": "code",
      "source": [
        "from keras.preprocessing import image\n",
        "from keras.applications.vgg19 import VGG19\n",
        "from keras.preprocessing.image import ImageDataGenerator\n",
        "import numpy as np\n",
        "import os\n",
        "import zipfile\n",
        "from keras import layers\n",
        "from keras import models\n",
        "from keras import optimizers\n",
        "from keras.preprocessing.image import ImageDataGenerator\n",
        "from keras import optimizers\n",
        "%matplotlib inline\n",
        "import matplotlib.pyplot as plt"
      ],
      "execution_count": 0,
      "outputs": []
    },
    {
      "metadata": {
        "id": "4KVp-mSVYlaS",
        "colab_type": "code",
        "colab": {
          "base_uri": "https://localhost:8080/",
          "height": 233
        },
        "outputId": "19d88796-b2e3-4806-cb89-35de5c896644"
      },
      "cell_type": "code",
      "source": [
        "!wget --no-check-certificate \\\n",
        "    https://storage.googleapis.com/mledu-datasets/cats_and_dogs_filtered.zip \\\n",
        "    -O /tmp/cats_and_dogs_filtered.zip"
      ],
      "execution_count": 24,
      "outputs": [
        {
          "output_type": "stream",
          "text": [
            "--2019-04-19 03:10:24--  https://storage.googleapis.com/mledu-datasets/cats_and_dogs_filtered.zip\n",
            "Resolving storage.googleapis.com (storage.googleapis.com)... 74.125.141.128, 2607:f8b0:400c:c06::80\n",
            "Connecting to storage.googleapis.com (storage.googleapis.com)|74.125.141.128|:443... connected.\n",
            "HTTP request sent, awaiting response... 200 OK\n",
            "Length: 68606236 (65M) [application/zip]\n",
            "Saving to: ‘/tmp/cats_and_dogs_filtered.zip’\n",
            "\n",
            "/tmp/cats_and_dogs_ 100%[===================>]  65.43M  94.0MB/s    in 0.7s    \n",
            "\n",
            "2019-04-19 03:10:25 (94.0 MB/s) - ‘/tmp/cats_and_dogs_filtered.zip’ saved [68606236/68606236]\n",
            "\n"
          ],
          "name": "stdout"
        }
      ]
    },
    {
      "metadata": {
        "id": "PoaCCjjAYqpD",
        "colab_type": "code",
        "colab": {}
      },
      "cell_type": "code",
      "source": [
        "local_zip = '/tmp/cats_and_dogs_filtered.zip'\n",
        "zip_ref = zipfile.ZipFile(local_zip, 'r')\n",
        "zip_ref.extractall('/tmp')\n",
        "zip_ref.close()\n",
        "\n",
        "dir = '/tmp/cats_and_dogs_filtered'\n",
        "\n",
        "train_data = os.path.join(dir, 'train')\n",
        "val_data = os.path.join(dir, 'validation')\n",
        "\n",
        "train_cats = os.path.join(train_data, 'cats')\n",
        "train_dogs = os.path.join(train_data, 'dogs')\n",
        "val_cats = os.path.join(val_data, 'cats')\n",
        "val_dogs = os.path.join(val_data, 'dogs')"
      ],
      "execution_count": 0,
      "outputs": []
    },
    {
      "metadata": {
        "id": "gMy0E-beYrzI",
        "colab_type": "code",
        "colab": {
          "base_uri": "https://localhost:8080/",
          "height": 884
        },
        "outputId": "ffe1522a-bc68-4b54-9439-c4d6866f8840"
      },
      "cell_type": "code",
      "source": [
        "conv_base = VGG19(weights = 'imagenet',\n",
        "              include_top=False, \n",
        "              input_shape=(150, 150, 3))\n",
        "\n",
        "#conv_base.summary()"
      ],
      "execution_count": 26,
      "outputs": [
        {
          "output_type": "stream",
          "text": [
            "_________________________________________________________________\n",
            "Layer (type)                 Output Shape              Param #   \n",
            "=================================================================\n",
            "input_6 (InputLayer)         (None, 150, 150, 3)       0         \n",
            "_________________________________________________________________\n",
            "block1_conv1 (Conv2D)        (None, 150, 150, 64)      1792      \n",
            "_________________________________________________________________\n",
            "block1_conv2 (Conv2D)        (None, 150, 150, 64)      36928     \n",
            "_________________________________________________________________\n",
            "block1_pool (MaxPooling2D)   (None, 75, 75, 64)        0         \n",
            "_________________________________________________________________\n",
            "block2_conv1 (Conv2D)        (None, 75, 75, 128)       73856     \n",
            "_________________________________________________________________\n",
            "block2_conv2 (Conv2D)        (None, 75, 75, 128)       147584    \n",
            "_________________________________________________________________\n",
            "block2_pool (MaxPooling2D)   (None, 37, 37, 128)       0         \n",
            "_________________________________________________________________\n",
            "block3_conv1 (Conv2D)        (None, 37, 37, 256)       295168    \n",
            "_________________________________________________________________\n",
            "block3_conv2 (Conv2D)        (None, 37, 37, 256)       590080    \n",
            "_________________________________________________________________\n",
            "block3_conv3 (Conv2D)        (None, 37, 37, 256)       590080    \n",
            "_________________________________________________________________\n",
            "block3_conv4 (Conv2D)        (None, 37, 37, 256)       590080    \n",
            "_________________________________________________________________\n",
            "block3_pool (MaxPooling2D)   (None, 18, 18, 256)       0         \n",
            "_________________________________________________________________\n",
            "block4_conv1 (Conv2D)        (None, 18, 18, 512)       1180160   \n",
            "_________________________________________________________________\n",
            "block4_conv2 (Conv2D)        (None, 18, 18, 512)       2359808   \n",
            "_________________________________________________________________\n",
            "block4_conv3 (Conv2D)        (None, 18, 18, 512)       2359808   \n",
            "_________________________________________________________________\n",
            "block4_conv4 (Conv2D)        (None, 18, 18, 512)       2359808   \n",
            "_________________________________________________________________\n",
            "block4_pool (MaxPooling2D)   (None, 9, 9, 512)         0         \n",
            "_________________________________________________________________\n",
            "block5_conv1 (Conv2D)        (None, 9, 9, 512)         2359808   \n",
            "_________________________________________________________________\n",
            "block5_conv2 (Conv2D)        (None, 9, 9, 512)         2359808   \n",
            "_________________________________________________________________\n",
            "block5_conv3 (Conv2D)        (None, 9, 9, 512)         2359808   \n",
            "_________________________________________________________________\n",
            "block5_conv4 (Conv2D)        (None, 9, 9, 512)         2359808   \n",
            "_________________________________________________________________\n",
            "block5_pool (MaxPooling2D)   (None, 4, 4, 512)         0         \n",
            "=================================================================\n",
            "Total params: 20,024,384\n",
            "Trainable params: 20,024,384\n",
            "Non-trainable params: 0\n",
            "_________________________________________________________________\n"
          ],
          "name": "stdout"
        }
      ]
    },
    {
      "metadata": {
        "id": "ZvCcAe2_iXTZ",
        "colab_type": "code",
        "colab": {}
      },
      "cell_type": "code",
      "source": [
        "model = models.Sequential()\n",
        "model.add(conv_base)\n",
        "model.add(layers.Flatten())\n",
        "model.add(layers.Dense(256, activation='relu'))\n",
        "model.add(layers.Dense(1, activation='sigmoid'))\n",
        "\n",
        "#model.summary()"
      ],
      "execution_count": 0,
      "outputs": []
    },
    {
      "metadata": {
        "id": "5PhrL2KdiZAU",
        "colab_type": "code",
        "colab": {
          "base_uri": "https://localhost:8080/",
          "height": 51
        },
        "outputId": "fa88a03a-ae82-444b-b0b2-12a132d5a0f1"
      },
      "cell_type": "code",
      "source": [
        "train_data_gen = ImageDataGenerator(\n",
        "  featurewise_center = False,\n",
        "  samplewise_center = False,\n",
        "  featurewise_std_normalization = False,\n",
        "  samplewise_std_normalization = False,\n",
        "  rotation_range = 90,\n",
        "  horizontal_flip = True,\n",
        "  vertical_flip = True)\n",
        "\n",
        "train_gen = train_data_gen.flow_from_directory(train_data, target_size = (150, 150), batch_size = 20, class_mode = 'binary')\n",
        "\n",
        "val_data_gen = ImageDataGenerator(rescale=1./255)\n",
        "\n",
        "val_gen = val_data_gen.flow_from_directory(val_data, target_size = (150, 150), batch_size = 20, class_mode = 'binary')"
      ],
      "execution_count": 28,
      "outputs": [
        {
          "output_type": "stream",
          "text": [
            "Found 2000 images belonging to 2 classes.\n",
            "Found 1000 images belonging to 2 classes.\n"
          ],
          "name": "stdout"
        }
      ]
    },
    {
      "metadata": {
        "id": "VK1QD7AwhEuc",
        "colab_type": "code",
        "colab": {}
      },
      "cell_type": "code",
      "source": [
        "conv_base.trainable = True\n",
        "\n",
        "set_trainable = False\n",
        "\n",
        "for layer in conv_base.layers:\n",
        "  if layer.name == 'block5_conv1':\n",
        "    set_trainable = True\n",
        "  if layer.name == 'block5_conv4':\n",
        "    set_trainable = True\n",
        "  if set_trainable:\n",
        "    layer.trainable = True\n",
        "  else:\n",
        "    layer.trainable = False"
      ],
      "execution_count": 0,
      "outputs": []
    },
    {
      "metadata": {
        "id": "43fWyYUejh5t",
        "colab_type": "code",
        "colab": {
          "base_uri": "https://localhost:8080/",
          "height": 1020
        },
        "outputId": "f390d653-e192-408b-e0fa-6a9869c77e1d"
      },
      "cell_type": "code",
      "source": [
        "model.compile(loss = 'binary_crossentropy', optimizer = optimizers.RMSprop(lr=1e-5), metrics=['acc'])\n",
        "\n",
        "#had to limit steps and epochs due to consistant runtime errors in Collab\n",
        "history = model.fit_generator(\n",
        "    train_gen,\n",
        "    steps_per_epoch=25,\n",
        "    epochs=20,\n",
        "    validation_data=val_gen,\n",
        "    validation_steps=10)"
      ],
      "execution_count": 30,
      "outputs": [
        {
          "output_type": "stream",
          "text": [
            "WARNING:tensorflow:From /usr/local/lib/python3.6/dist-packages/tensorflow/python/ops/math_ops.py:3066: to_int32 (from tensorflow.python.ops.math_ops) is deprecated and will be removed in a future version.\n",
            "Instructions for updating:\n",
            "Use tf.cast instead.\n",
            "Epoch 1/20\n",
            "25/25 [==============================] - 492s 20s/step - loss: 3.1378 - acc: 0.6060 - val_loss: 0.6996 - val_acc: 0.5300\n",
            "Epoch 2/20\n",
            "25/25 [==============================] - 491s 20s/step - loss: 2.3880 - acc: 0.6540 - val_loss: 0.6762 - val_acc: 0.5100\n",
            "Epoch 3/20\n",
            "25/25 [==============================] - 487s 19s/step - loss: 1.9416 - acc: 0.6740 - val_loss: 0.6479 - val_acc: 0.5750\n",
            "Epoch 4/20\n",
            "25/25 [==============================] - 484s 19s/step - loss: 1.4272 - acc: 0.7320 - val_loss: 0.6694 - val_acc: 0.5600\n",
            "Epoch 5/20\n",
            "25/25 [==============================] - 488s 20s/step - loss: 1.3565 - acc: 0.6980 - val_loss: 0.6471 - val_acc: 0.6100\n",
            "Epoch 6/20\n",
            "25/25 [==============================] - 491s 20s/step - loss: 1.1861 - acc: 0.7360 - val_loss: 0.6522 - val_acc: 0.6200\n",
            "Epoch 7/20\n",
            "25/25 [==============================] - 490s 20s/step - loss: 1.0196 - acc: 0.7400 - val_loss: 0.6648 - val_acc: 0.5500\n",
            "Epoch 8/20\n",
            "25/25 [==============================] - 488s 20s/step - loss: 0.7874 - acc: 0.7280 - val_loss: 0.6476 - val_acc: 0.5950\n",
            "Epoch 9/20\n",
            "25/25 [==============================] - 490s 20s/step - loss: 0.6594 - acc: 0.7560 - val_loss: 0.6644 - val_acc: 0.5950\n",
            "Epoch 10/20\n",
            "25/25 [==============================] - 488s 20s/step - loss: 0.7794 - acc: 0.7520 - val_loss: 0.6430 - val_acc: 0.6200\n",
            "Epoch 11/20\n",
            "25/25 [==============================] - 494s 20s/step - loss: 0.5644 - acc: 0.7760 - val_loss: 0.6422 - val_acc: 0.6900\n",
            "Epoch 12/20\n",
            "25/25 [==============================] - 489s 20s/step - loss: 0.6846 - acc: 0.8020 - val_loss: 0.6446 - val_acc: 0.7150\n",
            "Epoch 13/20\n",
            "25/25 [==============================] - 492s 20s/step - loss: 0.6264 - acc: 0.7660 - val_loss: 0.6418 - val_acc: 0.7050\n",
            "Epoch 14/20\n",
            "25/25 [==============================] - 490s 20s/step - loss: 0.4580 - acc: 0.7940 - val_loss: 0.6535 - val_acc: 0.6400\n",
            "Epoch 15/20\n",
            "25/25 [==============================] - 485s 19s/step - loss: 0.5516 - acc: 0.8080 - val_loss: 0.6405 - val_acc: 0.6900\n",
            "Epoch 16/20\n",
            "25/25 [==============================] - 486s 19s/step - loss: 0.5427 - acc: 0.7740 - val_loss: 0.6348 - val_acc: 0.7150\n",
            "Epoch 17/20\n",
            "25/25 [==============================] - 485s 19s/step - loss: 0.4396 - acc: 0.8380 - val_loss: 0.6489 - val_acc: 0.6900\n",
            "Epoch 18/20\n",
            "25/25 [==============================] - 494s 20s/step - loss: 0.4609 - acc: 0.8300 - val_loss: 0.6508 - val_acc: 0.6550\n",
            "Epoch 19/20\n",
            "25/25 [==============================] - 494s 20s/step - loss: 0.4942 - acc: 0.7960 - val_loss: 0.6406 - val_acc: 0.7000\n",
            "Epoch 20/20\n",
            "25/25 [==============================] - 489s 20s/step - loss: 0.5127 - acc: 0.8100 - val_loss: 0.6419 - val_acc: 0.7200\n"
          ],
          "name": "stdout"
        }
      ]
    },
    {
      "metadata": {
        "id": "icTdyoP3j4Yj",
        "colab_type": "code",
        "colab": {
          "base_uri": "https://localhost:8080/",
          "height": 545
        },
        "outputId": "60708b2d-0b01-4164-c877-1cf28841f6e4"
      },
      "cell_type": "code",
      "source": [
        "acc = history.history['acc']\n",
        "val_acc = history.history['val_acc']\n",
        "\n",
        "loss = history.history['loss']\n",
        "val_loss = history.history['val_loss']\n",
        "\n",
        "epochs = range(1, len(acc) + 1)\n",
        "\n",
        "plt.plot(epochs, acc, 'bo', label='training acc')\n",
        "plt.plot(epochs, val_acc, 'b', label='validation acc')\n",
        "plt.title('training and validation accuracy')\n",
        "plt.legend()\n",
        "\n",
        "plt.figure()\n",
        "\n",
        "plt.plot(epochs, loss, 'bo', label='training loss')\n",
        "plt.plot(epochs, val_loss, 'b', label='validation loss')\n",
        "plt.title('training and validation loss')\n",
        "plt.legend()\n",
        "\n",
        "plt.show()"
      ],
      "execution_count": 31,
      "outputs": [
        {
          "output_type": "display_data",
          "data": {
            "image/png": "[encoded data removed]",
            "text/plain": [
              "<Figure size 432x288 with 1 Axes>"
            ]
          },
          "metadata": {
            "tags": []
          }
        },
        {
          "output_type": "display_data",
          "data": {
            "image/png": "[encoded data removed]",
            "text/plain": [
              "<Figure size 432x288 with 1 Axes>"
            ]
          },
          "metadata": {
            "tags": []
          }
        }
      ]
    },
    {
      "metadata": {
        "id": "f47zmcHokeo_",
        "colab_type": "code",
        "colab": {
          "base_uri": "https://localhost:8080/",
          "height": 51
        },
        "outputId": "3ecc6c9e-26de-4ab3-8430-15cf76ac924c"
      },
      "cell_type": "code",
      "source": [
        "val_loss, val_acc = model.evaluate_generator(val_gen, steps=50)\n",
        "\n",
        "print(\"Validation loss:\", val_loss)\n",
        "print(\"Validation accuracy:\", val_acc)"
      ],
      "execution_count": 33,
      "outputs": [
        {
          "output_type": "stream",
          "text": [
            "Validation loss: 0.6486058580875397\n",
            "Validation accuracy: 0.6869999992847443\n"
          ],
          "name": "stdout"
        }
      ]
    }
  ]
}