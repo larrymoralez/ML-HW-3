{
  "nbformat": 4,
  "nbformat_minor": 0,
  "metadata": {
    "colab": {
      "name": "ML HW 3.1.ipynb",
      "version": "0.3.2",
      "provenance": [],
      "include_colab_link": true
    },
    "kernelspec": {
      "name": "python3",
      "display_name": "Python 3"
    }
  },
  "cells": [
    {
      "cell_type": "markdown",
      "metadata": {
        "id": "view-in-github",
        "colab_type": "text"
      },
      "source": [
        "<a href=\"https://colab.research.google.com/github/larrymoralez/ML-HW-3/blob/master/ML_HW_3_1.ipynb\" target=\"_parent\"><img src=\"https://colab.research.google.com/assets/colab-badge.svg\" alt=\"Open In Colab\"/></a>"
      ]
    },
    {
      "metadata": {
        "id": "fq6SBunQ_nux",
        "colab_type": "code",
        "colab": {}
      },
      "cell_type": "code",
      "source": [
        "from keras.preprocessing import image\n",
        "from keras.applications.vgg19 import VGG19\n",
        "from keras.preprocessing.image import ImageDataGenerator\n",
        "import numpy as np\n",
        "import os\n",
        "import zipfile\n",
        "from keras import layers\n",
        "from keras import models\n",
        "from keras import optimizers\n",
        "from keras.preprocessing.image import ImageDataGenerator\n",
        "from keras import optimizers\n",
        "%matplotlib inline\n",
        "import matplotlib.pyplot as plt"
      ],
      "execution_count": 0,
      "outputs": []
    },
    {
      "metadata": {
        "id": "9W_w6I2GJ0kj",
        "colab_type": "code",
        "colab": {
          "base_uri": "https://localhost:8080/",
          "height": 233
        },
        "outputId": "3ed02ca2-8221-476a-af81-5fe648a718c1"
      },
      "cell_type": "code",
      "source": [
        "!wget --no-check-certificate \\\n",
        "    https://storage.googleapis.com/mledu-datasets/cats_and_dogs_filtered.zip \\\n",
        "    -O /tmp/cats_and_dogs_filtered.zip"
      ],
      "execution_count": 5,
      "outputs": [
        {
          "output_type": "stream",
          "text": [
            "--2019-04-19 01:12:59--  https://storage.googleapis.com/mledu-datasets/cats_and_dogs_filtered.zip\n",
            "Resolving storage.googleapis.com (storage.googleapis.com)... 74.125.141.128, 2607:f8b0:400c:c06::80\n",
            "Connecting to storage.googleapis.com (storage.googleapis.com)|74.125.141.128|:443... connected.\n",
            "HTTP request sent, awaiting response... 200 OK\n",
            "Length: 68606236 (65M) [application/zip]\n",
            "Saving to: ‘/tmp/cats_and_dogs_filtered.zip’\n",
            "\n",
            "/tmp/cats_and_dogs_ 100%[===================>]  65.43M   137MB/s    in 0.5s    \n",
            "\n",
            "2019-04-19 01:12:59 (137 MB/s) - ‘/tmp/cats_and_dogs_filtered.zip’ saved [68606236/68606236]\n",
            "\n"
          ],
          "name": "stdout"
        }
      ]
    },
    {
      "metadata": {
        "id": "rU2WPBpWKNYs",
        "colab_type": "code",
        "colab": {}
      },
      "cell_type": "code",
      "source": [
        "local_zip = '/tmp/cats_and_dogs_filtered.zip'\n",
        "zip_ref = zipfile.ZipFile(local_zip, 'r')\n",
        "zip_ref.extractall('/tmp')\n",
        "zip_ref.close()\n",
        "\n",
        "dir = '/tmp/cats_and_dogs_filtered'\n",
        "\n",
        "train_data = os.path.join(dir, 'train')\n",
        "val_data = os.path.join(dir, 'validation')\n",
        "\n",
        "train_cats = os.path.join(train_data, 'cats')\n",
        "train_dogs = os.path.join(train_data, 'dogs')\n",
        "val_cats = os.path.join(val_data, 'cats')\n",
        "val_dogs = os.path.join(val_data, 'dogs')"
      ],
      "execution_count": 0,
      "outputs": []
    },
    {
      "metadata": {
        "id": "87cUIaQvC9Gn",
        "colab_type": "code",
        "colab": {}
      },
      "cell_type": "code",
      "source": [
        "conv_base = VGG19(weights = 'imagenet',\n",
        "              include_top=False, \n",
        "              input_shape=(150, 150, 3))\n",
        "\n",
        "#model.summary()\n",
        "\n",
        "model.trainable = False"
      ],
      "execution_count": 0,
      "outputs": []
    },
    {
      "metadata": {
        "id": "fiushe-CC4oV",
        "colab_type": "code",
        "colab": {}
      },
      "cell_type": "code",
      "source": [
        "model = models.Sequential()\n",
        "model.add(conv_base)\n",
        "model.add(layers.Flatten())\n",
        "model.add(layers.Dense(256, activation='relu'))\n",
        "# no dropout\n",
        "model.add(layers.Dense(1, activation='sigmoid'))\n",
        "\n",
        "#model.summary()"
      ],
      "execution_count": 0,
      "outputs": []
    },
    {
      "metadata": {
        "id": "bnx2JMApMGTT",
        "colab_type": "code",
        "colab": {
          "base_uri": "https://localhost:8080/",
          "height": 51
        },
        "outputId": "cbb6fa7b-4edb-4a05-bce4-433f5e288ecf"
      },
      "cell_type": "code",
      "source": [
        "train_data_gen = ImageDataGenerator(\n",
        "  featurewise_center = False,\n",
        "  samplewise_center = False,\n",
        "  featurewise_std_normalization = False,\n",
        "  samplewise_std_normalization = False,\n",
        "  rotation_range = 90,\n",
        "  horizontal_flip = True,\n",
        "  vertical_flip = True)\n",
        "\n",
        "train_gen = train_data_gen.flow_from_directory(train_data, target_size = (150, 150), batch_size = 20, class_mode = 'binary')\n",
        "\n",
        "val_data_gen = ImageDataGenerator(rescale=1./255)\n",
        "\n",
        "val_gen = val_data_gen.flow_from_directory(val_data, target_size = (150, 150), batch_size = 20, class_mode = 'binary')"
      ],
      "execution_count": 31,
      "outputs": [
        {
          "output_type": "stream",
          "text": [
            "Found 2000 images belonging to 2 classes.\n",
            "Found 1000 images belonging to 2 classes.\n"
          ],
          "name": "stdout"
        }
      ]
    },
    {
      "metadata": {
        "id": "oDRWvgt5MHqI",
        "colab_type": "code",
        "colab": {
          "base_uri": "https://localhost:8080/",
          "height": 187
        },
        "outputId": "d56b236a-fc39-4daa-8607-ad2df2649b1d"
      },
      "cell_type": "code",
      "source": [
        "model.compile(loss = 'binary_crossentropy', optimizer = optimizers.RMSprop(lr=2e-5), metrics=['acc'])\n",
        "\n",
        "history = model.fit_generator(\n",
        "    train_gen,\n",
        "    steps_per_epoch=5,\n",
        "    epochs=5,\n",
        "    validation_data=val_gen,\n",
        "    validation_steps=50\n",
        ")"
      ],
      "execution_count": 34,
      "outputs": [
        {
          "output_type": "stream",
          "text": [
            "Epoch 1/5\n",
            "5/5 [==============================] - 401s 80s/step - loss: 7.6906 - acc: 0.4900 - val_loss: 0.9461 - val_acc: 0.4800\n",
            "Epoch 2/5\n",
            "5/5 [==============================] - 397s 79s/step - loss: 9.0409 - acc: 0.4300 - val_loss: 1.3335 - val_acc: 0.5000\n",
            "Epoch 3/5\n",
            "5/5 [==============================] - 399s 80s/step - loss: 7.8979 - acc: 0.5100 - val_loss: 1.3655 - val_acc: 0.4920\n",
            "Epoch 4/5\n",
            "5/5 [==============================] - 398s 80s/step - loss: 7.5755 - acc: 0.5300 - val_loss: 1.3046 - val_acc: 0.5110\n",
            "Epoch 5/5\n",
            "5/5 [==============================] - 402s 80s/step - loss: 7.5755 - acc: 0.5300 - val_loss: 1.3688 - val_acc: 0.4820\n"
          ],
          "name": "stdout"
        }
      ]
    },
    {
      "metadata": {
        "id": "l8gJwCVQO7H9",
        "colab_type": "code",
        "colab": {
          "base_uri": "https://localhost:8080/",
          "height": 545
        },
        "outputId": "8bb82c35-c5bf-40a8-be1c-b0f0a5aceba0"
      },
      "cell_type": "code",
      "source": [
        "acc = history.history['acc']\n",
        "val_acc = history.history['val_acc']\n",
        "\n",
        "loss = history.history['loss']\n",
        "val_loss = history.history['val_loss']\n",
        "\n",
        "epochs = range(1, len(acc) + 1)\n",
        "\n",
        "plt.plot(epochs, acc, 'bo', label='training acc')\n",
        "plt.plot(epochs, val_acc, 'b', label='validation acc')\n",
        "plt.title('training and validation accuracy')\n",
        "plt.legend()\n",
        "\n",
        "plt.figure()\n",
        "\n",
        "plt.plot(epochs, loss, 'bo', label='training loss')\n",
        "plt.plot(epochs, val_loss, 'b', label='validation loss')\n",
        "plt.title('training and validation loss')\n",
        "plt.legend()\n",
        "\n",
        "plt.show()"
      ],
      "execution_count": 36,
      "outputs": [
        {
          "output_type": "display_data",
          "data": {
            "image/png": "[encoded data removed]",
            "text/plain": [
              "<Figure size 432x288 with 1 Axes>"
            ]
          },
          "metadata": {
            "tags": []
          }
        },
        {
          "output_type": "display_data",
          "data": {
            "image/png": "[encoded data removed]",
            "text/plain": [
              "<Figure size 432x288 with 1 Axes>"
            ]
          },
          "metadata": {
            "tags": []
          }
        }
      ]
    }
  ]
}