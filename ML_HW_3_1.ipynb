{
  "nbformat": 4,
  "nbformat_minor": 0,
  "metadata": {
    "colab": {
      "name": "ML HW 3.1.ipynb",
      "version": "0.3.2",
      "provenance": [],
      "include_colab_link": true
    },
    "kernelspec": {
      "name": "python3",
      "display_name": "Python 3"
    }
  },
  "cells": [
    {
      "cell_type": "markdown",
      "metadata": {
        "id": "view-in-github",
        "colab_type": "text"
      },
      "source": [
        "<a href=\"https://colab.research.google.com/github/larrymoralez/ML-HW-3/blob/master/ML_HW_3_1.ipynb\" target=\"_parent\"><img src=\"https://colab.research.google.com/assets/colab-badge.svg\" alt=\"Open In Colab\"/></a>"
      ]
    },
    {
      "metadata": {
        "id": "fq6SBunQ_nux",
        "colab_type": "code",
        "colab": {}
      },
      "cell_type": "code",
      "source": [
        "from keras.preprocessing import image\n",
        "from keras.applications.vgg19 import VGG19\n",
        "from keras.preprocessing.image import ImageDataGenerator\n",
        "import numpy as np\n",
        "import os\n",
        "import zipfile\n",
        "from keras import layers\n",
        "from keras import models\n",
        "from keras import optimizers\n",
        "from keras.preprocessing.image import ImageDataGenerator\n",
        "from keras import optimizers\n",
        "%matplotlib inline\n",
        "import matplotlib.pyplot as plt"
      ],
      "execution_count": 0,
      "outputs": []
    },
    {
      "metadata": {
        "id": "9W_w6I2GJ0kj",
        "colab_type": "code",
        "colab": {
          "base_uri": "https://localhost:8080/",
          "height": 233
        },
        "outputId": "3b0d89c7-60f6-4161-ddbc-ee8ffed8dc55"
      },
      "cell_type": "code",
      "source": [
        "!wget --no-check-certificate \\\n",
        "    https://storage.googleapis.com/mledu-datasets/cats_and_dogs_filtered.zip \\\n",
        "    -O /tmp/cats_and_dogs_filtered.zip"
      ],
      "execution_count": 9,
      "outputs": [
        {
          "output_type": "stream",
          "text": [
            "--2019-04-19 20:31:19--  https://storage.googleapis.com/mledu-datasets/cats_and_dogs_filtered.zip\n",
            "Resolving storage.googleapis.com (storage.googleapis.com)... 74.125.195.128, 2607:f8b0:400e:c08::80\n",
            "Connecting to storage.googleapis.com (storage.googleapis.com)|74.125.195.128|:443... connected.\n",
            "HTTP request sent, awaiting response... 200 OK\n",
            "Length: 68606236 (65M) [application/zip]\n",
            "Saving to: ‘/tmp/cats_and_dogs_filtered.zip’\n",
            "\n",
            "/tmp/cats_and_dogs_ 100%[===================>]  65.43M  84.4MB/s    in 0.8s    \n",
            "\n",
            "2019-04-19 20:31:20 (84.4 MB/s) - ‘/tmp/cats_and_dogs_filtered.zip’ saved [68606236/68606236]\n",
            "\n"
          ],
          "name": "stdout"
        }
      ]
    },
    {
      "metadata": {
        "id": "rU2WPBpWKNYs",
        "colab_type": "code",
        "colab": {}
      },
      "cell_type": "code",
      "source": [
        "local_zip = '/tmp/cats_and_dogs_filtered.zip'\n",
        "zip_ref = zipfile.ZipFile(local_zip, 'r')\n",
        "zip_ref.extractall('/tmp')\n",
        "zip_ref.close()\n",
        "\n",
        "dir = '/tmp/cats_and_dogs_filtered'\n",
        "\n",
        "train_data = os.path.join(dir, 'train')\n",
        "val_data = os.path.join(dir, 'validation')\n",
        "\n",
        "train_cats = os.path.join(train_data, 'cats')\n",
        "train_dogs = os.path.join(train_data, 'dogs')\n",
        "val_cats = os.path.join(val_data, 'cats')\n",
        "val_dogs = os.path.join(val_data, 'dogs')"
      ],
      "execution_count": 0,
      "outputs": []
    },
    {
      "metadata": {
        "id": "87cUIaQvC9Gn",
        "colab_type": "code",
        "colab": {}
      },
      "cell_type": "code",
      "source": [
        "conv_base = VGG19(weights = 'imagenet',\n",
        "              include_top=False, \n",
        "              input_shape=(150, 150, 3))\n",
        "\n",
        "#model.summary()\n",
        "\n",
        "#model.trainable = False"
      ],
      "execution_count": 0,
      "outputs": []
    },
    {
      "metadata": {
        "id": "fiushe-CC4oV",
        "colab_type": "code",
        "colab": {}
      },
      "cell_type": "code",
      "source": [
        "model = models.Sequential()\n",
        "model.add(conv_base)\n",
        "model.add(layers.Flatten())\n",
        "model.add(layers.Dense(256, activation='relu'))\n",
        "model.add(layers.Dense(1, activation='sigmoid'))\n",
        "\n",
        "#model.summary()"
      ],
      "execution_count": 0,
      "outputs": []
    },
    {
      "metadata": {
        "id": "bnx2JMApMGTT",
        "colab_type": "code",
        "colab": {
          "base_uri": "https://localhost:8080/",
          "height": 51
        },
        "outputId": "8dc729b9-bd28-42d3-a4cc-257be19481f1"
      },
      "cell_type": "code",
      "source": [
        "train_data_gen = ImageDataGenerator(\n",
        "  featurewise_center = False,\n",
        "  samplewise_center = False,\n",
        "  featurewise_std_normalization = False,\n",
        "  samplewise_std_normalization = False,\n",
        "  rotation_range = 90,\n",
        "  horizontal_flip = True,\n",
        "  vertical_flip = True)\n",
        "\n",
        "train_gen = train_data_gen.flow_from_directory(train_data, target_size = (150, 150), batch_size = 20, class_mode = 'binary')\n",
        "\n",
        "val_data_gen = ImageDataGenerator(rescale=1./255)\n",
        "\n",
        "val_gen = val_data_gen.flow_from_directory(val_data, target_size = (150, 150), batch_size = 20, class_mode = 'binary')"
      ],
      "execution_count": 14,
      "outputs": [
        {
          "output_type": "stream",
          "text": [
            "Found 2000 images belonging to 2 classes.\n",
            "Found 1000 images belonging to 2 classes.\n"
          ],
          "name": "stdout"
        }
      ]
    },
    {
      "metadata": {
        "id": "oDRWvgt5MHqI",
        "colab_type": "code",
        "colab": {
          "base_uri": "https://localhost:8080/",
          "height": 1020
        },
        "outputId": "822c3fa4-06fe-4736-e3de-0d7b4dd04d4c"
      },
      "cell_type": "code",
      "source": [
        "model.compile(loss = 'binary_crossentropy', optimizer = optimizers.RMSprop(lr=1e-5), metrics=['acc'])\n",
        "\n",
        "history = model.fit_generator(\n",
        "    train_gen,\n",
        "    steps_per_epoch=25,\n",
        "    epochs=20,\n",
        "    validation_data=val_gen,\n",
        "    validation_steps=10)"
      ],
      "execution_count": 15,
      "outputs": [
        {
          "output_type": "stream",
          "text": [
            "WARNING:tensorflow:From /usr/local/lib/python3.6/dist-packages/tensorflow/python/ops/math_ops.py:3066: to_int32 (from tensorflow.python.ops.math_ops) is deprecated and will be removed in a future version.\n",
            "Instructions for updating:\n",
            "Use tf.cast instead.\n",
            "Epoch 1/20\n",
            "25/25 [==============================] - 603s 24s/step - loss: 3.5860 - acc: 0.5960 - val_loss: 0.7357 - val_acc: 0.5350\n",
            "Epoch 2/20\n",
            "25/25 [==============================] - 600s 24s/step - loss: 2.0855 - acc: 0.6560 - val_loss: 0.7839 - val_acc: 0.4500\n",
            "Epoch 3/20\n",
            "25/25 [==============================] - 602s 24s/step - loss: 1.2899 - acc: 0.6540 - val_loss: 0.7579 - val_acc: 0.5200\n",
            "Epoch 4/20\n",
            "25/25 [==============================] - 601s 24s/step - loss: 0.9819 - acc: 0.6060 - val_loss: 0.7938 - val_acc: 0.4900\n",
            "Epoch 5/20\n",
            "25/25 [==============================] - 598s 24s/step - loss: 0.7572 - acc: 0.6420 - val_loss: 0.7654 - val_acc: 0.5000\n",
            "Epoch 6/20\n",
            "25/25 [==============================] - 607s 24s/step - loss: 0.7224 - acc: 0.6480 - val_loss: 0.7212 - val_acc: 0.5550\n",
            "Epoch 7/20\n",
            "25/25 [==============================] - 608s 24s/step - loss: 0.6877 - acc: 0.6380 - val_loss: 0.7394 - val_acc: 0.5050\n",
            "Epoch 8/20\n",
            "25/25 [==============================] - 599s 24s/step - loss: 0.6275 - acc: 0.6840 - val_loss: 0.7034 - val_acc: 0.5350\n",
            "Epoch 9/20\n",
            "25/25 [==============================] - 604s 24s/step - loss: 0.6302 - acc: 0.6640 - val_loss: 0.7658 - val_acc: 0.4500\n",
            "Epoch 10/20\n",
            "25/25 [==============================] - 607s 24s/step - loss: 0.5778 - acc: 0.7120 - val_loss: 0.7492 - val_acc: 0.4550\n",
            "Epoch 11/20\n",
            "25/25 [==============================] - 605s 24s/step - loss: 0.5771 - acc: 0.7340 - val_loss: 0.7184 - val_acc: 0.4950\n",
            "Epoch 12/20\n",
            "25/25 [==============================] - 626s 25s/step - loss: 0.5636 - acc: 0.7360 - val_loss: 0.7344 - val_acc: 0.4750\n",
            "Epoch 13/20\n",
            "25/25 [==============================] - 629s 25s/step - loss: 0.5499 - acc: 0.7700 - val_loss: 0.7016 - val_acc: 0.5350\n",
            "Epoch 14/20\n",
            "25/25 [==============================] - 613s 25s/step - loss: 0.5288 - acc: 0.7560 - val_loss: 0.7152 - val_acc: 0.5000\n",
            "Epoch 15/20\n",
            "25/25 [==============================] - 661s 26s/step - loss: 0.5634 - acc: 0.7420 - val_loss: 0.7238 - val_acc: 0.4950\n",
            "Epoch 16/20\n",
            "25/25 [==============================] - 601s 24s/step - loss: 0.4950 - acc: 0.8020 - val_loss: 0.7121 - val_acc: 0.5050\n",
            "Epoch 17/20\n",
            "25/25 [==============================] - 602s 24s/step - loss: 0.4698 - acc: 0.8120 - val_loss: 0.7120 - val_acc: 0.5050\n",
            "Epoch 18/20\n",
            "25/25 [==============================] - 601s 24s/step - loss: 0.5527 - acc: 0.7420 - val_loss: 0.7155 - val_acc: 0.5000\n",
            "Epoch 19/20\n",
            "25/25 [==============================] - 602s 24s/step - loss: 0.5708 - acc: 0.7100 - val_loss: 0.7261 - val_acc: 0.5000\n",
            "Epoch 20/20\n",
            "25/25 [==============================] - 782s 31s/step - loss: 0.5022 - acc: 0.7760 - val_loss: 0.7200 - val_acc: 0.4900\n"
          ],
          "name": "stdout"
        }
      ]
    },
    {
      "metadata": {
        "id": "l8gJwCVQO7H9",
        "colab_type": "code",
        "colab": {
          "base_uri": "https://localhost:8080/",
          "height": 545
        },
        "outputId": "a4491d37-f631-46c8-e4be-cabed391711a"
      },
      "cell_type": "code",
      "source": [
        "acc = history.history['acc']\n",
        "val_acc = history.history['val_acc']\n",
        "\n",
        "loss = history.history['loss']\n",
        "val_loss = history.history['val_loss']\n",
        "\n",
        "epochs = range(1, len(acc) + 1)\n",
        "\n",
        "plt.plot(epochs, acc, 'bo', label='training acc')\n",
        "plt.plot(epochs, val_acc, 'b', label='validation acc')\n",
        "plt.title('training and validation accuracy')\n",
        "plt.legend()\n",
        "\n",
        "plt.figure()\n",
        "\n",
        "plt.plot(epochs, loss, 'bo', label='training loss')\n",
        "plt.plot(epochs, val_loss, 'b', label='validation loss')\n",
        "plt.title('training and validation loss')\n",
        "plt.legend()\n",
        "\n",
        "plt.show()"
      ],
      "execution_count": 16,
      "outputs": [
        {
          "output_type": "display_data",
          "data": {
            "image/png": "[encoded data removed]",
            "text/plain": [
              "<Figure size 432x288 with 1 Axes>"
            ]
          },
          "metadata": {
            "tags": []
          }
        },
        {
          "output_type": "display_data",
          "data": {
            "image/png": "[encoded data removed]",
            "text/plain": [
              "<Figure size 432x288 with 1 Axes>"
            ]
          },
          "metadata": {
            "tags": []
          }
        }
      ]
    },
    {
      "metadata": {
        "id": "iUF7LLQ5kmr7",
        "colab_type": "code",
        "colab": {
          "base_uri": "https://localhost:8080/",
          "height": 51
        },
        "outputId": "c538f7a0-8da2-4b29-ac3e-36c4ce9d515a"
      },
      "cell_type": "code",
      "source": [
        "val_loss, val_acc = model.evaluate_generator(val_gen, steps=50)\n",
        "\n",
        "print(\"Validation loss:\", val_loss)\n",
        "print(\"Validation accuracy:\", val_acc)"
      ],
      "execution_count": 17,
      "outputs": [
        {
          "output_type": "stream",
          "text": [
            "Validation loss: 0.712123293876648\n",
            "Validation accuracy: 0.49900000393390653\n"
          ],
          "name": "stdout"
        }
      ]
    }
  ]
}