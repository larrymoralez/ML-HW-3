{
  "nbformat": 4,
  "nbformat_minor": 0,
  "metadata": {
    "colab": {
      "name": "ML HW 3.1.ipynb",
      "version": "0.3.2",
      "provenance": [],
      "include_colab_link": true
    },
    "kernelspec": {
      "name": "python3",
      "display_name": "Python 3"
    }
  },
  "cells": [
    {
      "cell_type": "markdown",
      "metadata": {
        "id": "view-in-github",
        "colab_type": "text"
      },
      "source": [
        "<a href=\"https://colab.research.google.com/github/larrymoralez/ML-HW-3/blob/master/ML_HW_3_1.ipynb\" target=\"_parent\"><img src=\"https://colab.research.google.com/assets/colab-badge.svg\" alt=\"Open In Colab\"/></a>"
      ]
    },
    {
      "metadata": {
        "id": "fq6SBunQ_nux",
        "colab_type": "code",
        "colab": {}
      },
      "cell_type": "code",
      "source": [
        "from keras.preprocessing import image\n",
        "from keras.applications.vgg19 import VGG19\n",
        "from keras.preprocessing.image import ImageDataGenerator\n",
        "import numpy as np\n",
        "import os\n",
        "import zipfile\n",
        "from keras import layers\n",
        "from keras import models\n",
        "from keras import optimizers\n",
        "from keras.preprocessing.image import ImageDataGenerator\n",
        "from keras import optimizers\n",
        "%matplotlib inline\n",
        "import matplotlib.pyplot as plt"
      ],
      "execution_count": 0,
      "outputs": []
    },
    {
      "metadata": {
        "id": "9W_w6I2GJ0kj",
        "colab_type": "code",
        "colab": {
          "base_uri": "https://localhost:8080/",
          "height": 233
        },
        "outputId": "3ed02ca2-8221-476a-af81-5fe648a718c1"
      },
      "cell_type": "code",
      "source": [
        "!wget --no-check-certificate \\\n",
        "    https://storage.googleapis.com/mledu-datasets/cats_and_dogs_filtered.zip \\\n",
        "    -O /tmp/cats_and_dogs_filtered.zip"
      ],
      "execution_count": 5,
      "outputs": [
        {
          "output_type": "stream",
          "text": [
            "--2019-04-19 01:12:59--  https://storage.googleapis.com/mledu-datasets/cats_and_dogs_filtered.zip\n",
            "Resolving storage.googleapis.com (storage.googleapis.com)... 74.125.141.128, 2607:f8b0:400c:c06::80\n",
            "Connecting to storage.googleapis.com (storage.googleapis.com)|74.125.141.128|:443... connected.\n",
            "HTTP request sent, awaiting response... 200 OK\n",
            "Length: 68606236 (65M) [application/zip]\n",
            "Saving to: ‘/tmp/cats_and_dogs_filtered.zip’\n",
            "\n",
            "/tmp/cats_and_dogs_ 100%[===================>]  65.43M   137MB/s    in 0.5s    \n",
            "\n",
            "2019-04-19 01:12:59 (137 MB/s) - ‘/tmp/cats_and_dogs_filtered.zip’ saved [68606236/68606236]\n",
            "\n"
          ],
          "name": "stdout"
        }
      ]
    },
    {
      "metadata": {
        "id": "rU2WPBpWKNYs",
        "colab_type": "code",
        "colab": {}
      },
      "cell_type": "code",
      "source": [
        "local_zip = '/tmp/cats_and_dogs_filtered.zip'\n",
        "zip_ref = zipfile.ZipFile(local_zip, 'r')\n",
        "zip_ref.extractall('/tmp')\n",
        "zip_ref.close()\n",
        "\n",
        "dir = '/tmp/cats_and_dogs_filtered'\n",
        "\n",
        "train_data = os.path.join(dir, 'train')\n",
        "val_data = os.path.join(dir, 'validation')\n",
        "\n",
        "train_cats = os.path.join(train_data, 'cats')\n",
        "train_dogs = os.path.join(train_data, 'dogs')\n",
        "val_cats = os.path.join(val_data, 'cats')\n",
        "val_dogs = os.path.join(val_data, 'dogs')"
      ],
      "execution_count": 0,
      "outputs": []
    },
    {
      "metadata": {
        "id": "87cUIaQvC9Gn",
        "colab_type": "code",
        "colab": {}
      },
      "cell_type": "code",
      "source": [
        "conv_base = VGG19(weights = 'imagenet',\n",
        "              include_top=False, \n",
        "              input_shape=(150, 150, 3))\n",
        "\n",
        "#model.summary()\n",
        "\n",
        "model.trainable = False"
      ],
      "execution_count": 0,
      "outputs": []
    },
    {
      "metadata": {
        "id": "fiushe-CC4oV",
        "colab_type": "code",
        "colab": {}
      },
      "cell_type": "code",
      "source": [
        "model = models.Sequential()\n",
        "model.add(conv_base)\n",
        "model.add(layers.Flatten())\n",
        "model.add(layers.Dense(256, activation='relu'))\n",
        "model.add(layers.Dense(1, activation='sigmoid'))\n",
        "\n",
        "#model.summary()"
      ],
      "execution_count": 0,
      "outputs": []
    },
    {
      "metadata": {
        "id": "bnx2JMApMGTT",
        "colab_type": "code",
        "colab": {
          "base_uri": "https://localhost:8080/",
          "height": 51
        },
        "outputId": "cbb6fa7b-4edb-4a05-bce4-433f5e288ecf"
      },
      "cell_type": "code",
      "source": [
        "train_data_gen = ImageDataGenerator(\n",
        "  featurewise_center = False,\n",
        "  samplewise_center = False,\n",
        "  featurewise_std_normalization = False,\n",
        "  samplewise_std_normalization = False,\n",
        "  rotation_range = 90,\n",
        "  horizontal_flip = True,\n",
        "  vertical_flip = True)\n",
        "\n",
        "train_gen = train_data_gen.flow_from_directory(train_data, target_size = (150, 150), batch_size = 20, class_mode = 'binary')\n",
        "\n",
        "val_data_gen = ImageDataGenerator(rescale=1./255)\n",
        "\n",
        "val_gen = val_data_gen.flow_from_directory(val_data, target_size = (150, 150), batch_size = 20, class_mode = 'binary')"
      ],
      "execution_count": 31,
      "outputs": [
        {
          "output_type": "stream",
          "text": [
            "Found 2000 images belonging to 2 classes.\n",
            "Found 1000 images belonging to 2 classes.\n"
          ],
          "name": "stdout"
        }
      ]
    },
    {
      "metadata": {
        "id": "oDRWvgt5MHqI",
        "colab_type": "code",
        "colab": {
          "base_uri": "https://localhost:8080/",
          "height": 697
        },
        "outputId": "c6641292-1b14-41b8-9080-09a66c4a6566"
      },
      "cell_type": "code",
      "source": [
        "model.compile(loss = 'binary_crossentropy', optimizer = optimizers.RMSprop(lr=2e-5), metrics=['acc'])\n",
        "\n",
        "history = model.fit_generator(\n",
        "    train_gen,\n",
        "    steps_per_epoch=25,\n",
        "    epochs=20,\n",
        "    validation_data=val_gen,\n",
        "    validation_steps=10)"
      ],
      "execution_count": 37,
      "outputs": [
        {
          "output_type": "stream",
          "text": [
            "Epoch 1/20\n",
            "25/25 [==============================] - 597s 24s/step - loss: 8.1880 - acc: 0.4920 - val_loss: 1.3599 - val_acc: 0.5100\n",
            "Epoch 2/20\n",
            "25/25 [==============================] - 594s 24s/step - loss: 7.8012 - acc: 0.5160 - val_loss: 1.1154 - val_acc: 0.5850\n",
            "Epoch 3/20\n",
            "25/25 [==============================] - 594s 24s/step - loss: 7.8656 - acc: 0.5120 - val_loss: 1.4423 - val_acc: 0.4500\n",
            "Epoch 4/20\n",
            "25/25 [==============================] - 598s 24s/step - loss: 7.4788 - acc: 0.5360 - val_loss: 1.2474 - val_acc: 0.5450\n",
            "Epoch 5/20\n",
            "25/25 [==============================] - 595s 24s/step - loss: 8.4781 - acc: 0.4740 - val_loss: 1.2581 - val_acc: 0.5150\n",
            "Epoch 6/20\n",
            "25/25 [==============================] - 1172s 47s/step - loss: 8.2847 - acc: 0.4860 - val_loss: 1.4322 - val_acc: 0.4500\n",
            "Epoch 7/20\n",
            "25/25 [==============================] - 1181s 47s/step - loss: 7.9623 - acc: 0.5060 - val_loss: 1.3039 - val_acc: 0.5200\n",
            "Epoch 8/20\n",
            "25/25 [==============================] - 1182s 47s/step - loss: 7.9301 - acc: 0.5080 - val_loss: 5.1827 - val_acc: 0.4900\n",
            "Epoch 9/20\n",
            "25/25 [==============================] - 1183s 47s/step - loss: 8.0913 - acc: 0.4980 - val_loss: 4.9017 - val_acc: 0.5100\n",
            "Epoch 10/20\n",
            "25/25 [==============================] - 1183s 47s/step - loss: 8.3492 - acc: 0.4820 - val_loss: 5.5238 - val_acc: 0.4750\n",
            "Epoch 11/20\n",
            "25/25 [==============================] - 1180s 47s/step - loss: 7.7689 - acc: 0.5180 - val_loss: 4.9989 - val_acc: 0.5200\n",
            "Epoch 12/20\n",
            "25/25 [==============================] - 1177s 47s/step - loss: 8.0590 - acc: 0.5000 - val_loss: 5.8248 - val_acc: 0.4600\n",
            "Epoch 13/20\n",
            "25/25 [==============================] - 1173s 47s/step - loss: 8.2847 - acc: 0.4860 - val_loss: 4.9704 - val_acc: 0.5250\n",
            "Epoch 14/20\n",
            "25/25 [==============================] - 781s 31s/step - loss: 8.0268 - acc: 0.5020 - val_loss: 5.8527 - val_acc: 0.4400\n",
            "Epoch 15/20\n",
            "25/25 [==============================] - 892s 36s/step - loss: 7.8334 - acc: 0.5140 - val_loss: 4.7601 - val_acc: 0.5450\n",
            "Epoch 16/20\n",
            "25/25 [==============================] - 596s 24s/step - loss: 8.5748 - acc: 0.4680 - val_loss: 5.3567 - val_acc: 0.4850\n",
            "Epoch 17/20\n",
            "25/25 [==============================] - 598s 24s/step - loss: 8.1880 - acc: 0.4920 - val_loss: 5.2486 - val_acc: 0.4900\n",
            "Epoch 18/20\n",
            "25/25 [==============================] - 597s 24s/step - loss: 7.7367 - acc: 0.5200 - val_loss: 4.8698 - val_acc: 0.5200\n",
            "Epoch 19/20\n",
            "25/25 [==============================] - 598s 24s/step - loss: 7.4466 - acc: 0.5380 - val_loss: 5.0632 - val_acc: 0.5100\n",
            "Epoch 20/20\n",
            "25/25 [==============================] - 598s 24s/step - loss: 8.0590 - acc: 0.5000 - val_loss: 5.2485 - val_acc: 0.4900\n"
          ],
          "name": "stdout"
        }
      ]
    },
    {
      "metadata": {
        "id": "l8gJwCVQO7H9",
        "colab_type": "code",
        "colab": {
          "base_uri": "https://localhost:8080/",
          "height": 545
        },
        "outputId": "1152e120-f68e-482f-ccff-cd0a8fab9e19"
      },
      "cell_type": "code",
      "source": [
        "acc = history.history['acc']\n",
        "val_acc = history.history['val_acc']\n",
        "\n",
        "loss = history.history['loss']\n",
        "val_loss = history.history['val_loss']\n",
        "\n",
        "epochs = range(1, len(acc) + 1)\n",
        "\n",
        "plt.plot(epochs, acc, 'bo', label='training acc')\n",
        "plt.plot(epochs, val_acc, 'b', label='validation acc')\n",
        "plt.title('training and validation accuracy')\n",
        "plt.legend()\n",
        "\n",
        "plt.figure()\n",
        "\n",
        "plt.plot(epochs, loss, 'bo', label='training loss')\n",
        "plt.plot(epochs, val_loss, 'b', label='validation loss')\n",
        "plt.title('training and validation loss')\n",
        "plt.legend()\n",
        "\n",
        "plt.show()"
      ],
      "execution_count": 38,
      "outputs": [
        {
          "output_type": "display_data",
          "data": {
            "image/png": "[encoded data removed]",
            "text/plain": [
              "<Figure size 432x288 with 1 Axes>"
            ]
          },
          "metadata": {
            "tags": []
          }
        },
        {
          "output_type": "display_data",
          "data": {
            "image/png": "[encoded data removed]",
            "text/plain": [
              "<Figure size 432x288 with 1 Axes>"
            ]
          },
          "metadata": {
            "tags": []
          }
        }
      ]
    },
    {
      "metadata": {
        "id": "iUF7LLQ5kmr7",
        "colab_type": "code",
        "colab": {
          "base_uri": "https://localhost:8080/",
          "height": 51
        },
        "outputId": "d097d862-5136-47f2-87c5-e3a7d4ccd30e"
      },
      "cell_type": "code",
      "source": [
        "val_loss, val_acc = model.evaluate_generator(val_gen, steps=50)\n",
        "\n",
        "print(\"Validation loss:\", val_loss)\n",
        "print(\"Validation accuracy:\", val_acc)"
      ],
      "execution_count": 39,
      "outputs": [
        {
          "output_type": "stream",
          "text": [
            "Validation loss: 5.225534157752991\n",
            "Validation accuracy: 0.4970000010728836\n"
          ],
          "name": "stdout"
        }
      ]
    }
  ]
}